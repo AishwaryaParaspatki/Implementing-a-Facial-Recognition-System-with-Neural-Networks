{
 "cells": [
  {
   "cell_type": "code",
   "execution_count": 1,
   "metadata": {},
   "outputs": [],
   "source": [
    "import cv2\n",
    "import os \n",
    "\n",
    "face_cascade = cv2.CascadeClassifier('haarcascade_frontalface_default.xml')\n",
    "\n",
    "def detect_faces(img, draw_box=True):\n",
    "    # convert image to grayscale\n",
    "    grayscale_img = cv2.cvtColor(img, cv2.COLOR_BGR2GRAY)\n",
    "\n",
    "    # detect faces\n",
    "    faces = face_cascade.detectMultiScale(grayscale_img, scaleFactor=1.1,\n",
    "        minNeighbors=5,\n",
    "        minSize=(30, 30),\n",
    "        flags=cv2.CASCADE_SCALE_IMAGE)\n",
    "    \n",
    "    face_box, face_coords = None, []\n",
    "\n",
    "    for (x, y, w, h) in faces:\n",
    "        if draw_box:\n",
    "            cv2.rectangle(img, (x, y), (x+w, y+h), (0, 255, 0), 5)\n",
    "        face_box = img[y:y+h, x:x+w]\n",
    "        face_coords = [x,y,w,h]\n",
    "\n",
    "    return img, face_box, face_coords\n",
    "\n",
    "if __name__ == \"__main__\":\n",
    "    files = os.listdir('sample_faces')\n",
    "    images = [file for file in files if 'jpg' in file]\n",
    "    for image in images:\n",
    "        img = cv2.imread('sample_faces/' + image)\n",
    "        detected_faces, _, _ = detect_faces(img)\n",
    "        cv2.imwrite('sample_faces/detected_faces/' + image, detected_faces)"
   ]
  },
  {
   "cell_type": "code",
   "execution_count": null,
   "metadata": {},
   "outputs": [],
   "source": []
  }
 ],
 "metadata": {
  "kernelspec": {
   "display_name": "Python 3",
   "language": "python",
   "name": "python3"
  },
  "language_info": {
   "codemirror_mode": {
    "name": "ipython",
    "version": 3
   },
   "file_extension": ".py",
   "mimetype": "text/x-python",
   "name": "python",
   "nbconvert_exporter": "python",
   "pygments_lexer": "ipython3",
   "version": "3.7.3"
  }
 },
 "nbformat": 4,
 "nbformat_minor": 2
}
