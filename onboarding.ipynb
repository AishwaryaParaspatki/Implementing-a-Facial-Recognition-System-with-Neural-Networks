{
 "cells": [
  {
   "cell_type": "code",
   "execution_count": 1,
   "metadata": {},
   "outputs": [
    {
     "name": "stdout",
     "output_type": "stream",
     "text": [
      "importing Jupyter notebook from utils.ipynb\n"
     ]
    },
    {
     "name": "stderr",
     "output_type": "stream",
     "text": [
      "Using TensorFlow backend.\n"
     ]
    },
    {
     "name": "stdout",
     "output_type": "stream",
     "text": [
      "importing Jupyter notebook from face_detection.ipynb\n",
      "Onboarding Image Captured\n"
     ]
    }
   ],
   "source": [
    "import cv2\n",
    "import math\n",
    "import import_ipynb\n",
    "import utils\n",
    "import face_detection\n",
    "\n",
    "video_capture = cv2.VideoCapture(0)\n",
    "counter = 5\n",
    "\n",
    "while True:\n",
    "    _, frame = video_capture.read()\n",
    "    frame, face_box, face_coords = face_detection.detect_faces(frame)\n",
    "    text = 'Image will be taken in {}..'.format(math.ceil(counter))\n",
    "    if face_box is not None:\n",
    "        frame = utils.write_on_frame(frame, text, face_coords[0], face_coords[1]-10)\n",
    "    cv2.imshow('Video', frame)\n",
    "    cv2.waitKey(1)\n",
    "    counter -= 0.1\n",
    "    if counter <= 0:\n",
    "        cv2.imwrite('true_img.png', face_box)\n",
    "        break\n",
    "\n",
    "# When everything is done, release the capture\n",
    "video_capture.release()\n",
    "cv2.destroyAllWindows()\n",
    "print(\"Onboarding Image Captured\")"
   ]
  },
  {
   "cell_type": "code",
   "execution_count": null,
   "metadata": {},
   "outputs": [],
   "source": []
  }
 ],
 "metadata": {
  "kernelspec": {
   "display_name": "Python 3",
   "language": "python",
   "name": "python3"
  },
  "language_info": {
   "codemirror_mode": {
    "name": "ipython",
    "version": 3
   },
   "file_extension": ".py",
   "mimetype": "text/x-python",
   "name": "python",
   "nbconvert_exporter": "python",
   "pygments_lexer": "ipython3",
   "version": "3.7.3"
  }
 },
 "nbformat": 4,
 "nbformat_minor": 2
}
