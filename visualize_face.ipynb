{
 "cells": [
  {
   "cell_type": "code",
   "execution_count": 1,
   "metadata": {},
   "outputs": [
    {
     "name": "stderr",
     "output_type": "stream",
     "text": [
      "Using TensorFlow backend.\n"
     ]
    }
   ],
   "source": [
    "import matplotlib\n",
    "matplotlib.use(\"TkAgg\")\n",
    "from keras.preprocessing.image import load_img, img_to_array\n",
    "import os\n",
    "import numpy as np\n",
    "from matplotlib import pyplot as plt\n",
    "\n",
    "faces_dir = 'att_faces/'\n",
    "\n",
    "X_train, Y_train = [], []\n",
    "X_test, Y_test = [], []\n",
    "\n",
    "subfolders = sorted([file.path for file in os.scandir(faces_dir) if file.is_dir()])\n",
    "for idx, folder in enumerate(subfolders):\n",
    "    for file in sorted(os.listdir(folder)):\n",
    "        img = load_img(folder+\"/\"+file, color_mode='grayscale')\n",
    "        img = img_to_array(img).astype('float32')/255\n",
    "        img = img.reshape(img.shape[0], img.shape[1],1)\n",
    "        if idx < 35:\n",
    "            X_train.append(img)\n",
    "            Y_train.append(idx)\n",
    "        else:\n",
    "            X_test.append(img)\n",
    "            Y_test.append(idx-35)\n",
    "\n",
    "X_train = np.array(X_train)\n",
    "X_test = np.array(X_test)\n",
    "Y_train = np.array(Y_train)\n",
    "Y_test = np.array(Y_test)\n",
    "\n",
    "subject_idx = 4\n",
    "fig, ((ax1,ax2,ax3),(ax4,ax5,ax6),(ax7,ax8,ax9)) = plt.subplots(3,3,figsize=(10,10))\n",
    "subject_img_idx = np.where(Y_train==subject_idx)[0].tolist()\n",
    "for i, ax in enumerate([ax1,ax2,ax3,ax4,ax5,ax6,ax7,ax8,ax9]):\n",
    "    img = X_train[subject_img_idx[i]]\n",
    "    img = img.reshape(img.shape[0], img.shape[1])\n",
    "    ax.imshow(img, cmap='gray')\n",
    "    ax.grid(False)\n",
    "    ax.set_xticks([])\n",
    "    ax.set_yticks([])\n",
    "plt.tight_layout()\n",
    "plt.show()\n",
    "\n",
    "subjects = range(10)\n",
    "fig, ((ax1,ax2,ax3),(ax4,ax5,ax6),(ax7,ax8,ax9)) = plt.subplots(3,3,\n",
    "figsize=(10,12))\n",
    "subject_img_idx = [np.where(Y_train==i)[0].tolist()[0] for i in subjects]\n",
    "for i, ax in enumerate([ax1,ax2,ax3,ax4,ax5,ax6,ax7,ax8,ax9]):\n",
    "    img = X_train[subject_img_idx[i]]\n",
    "    img = img.reshape(img.shape[0], img.shape[1])\n",
    "    ax.imshow(img, cmap='gray')\n",
    "    ax.grid(False)\n",
    "    ax.set_xticks([])\n",
    "    ax.set_yticks([])\n",
    "    ax.set_title(\"Subject {}\".format(i))\n",
    "plt.tight_layout()\n",
    "plt.show()"
   ]
  },
  {
   "cell_type": "code",
   "execution_count": null,
   "metadata": {},
   "outputs": [],
   "source": []
  }
 ],
 "metadata": {
  "kernelspec": {
   "display_name": "Python 3",
   "language": "python",
   "name": "python3"
  },
  "language_info": {
   "codemirror_mode": {
    "name": "ipython",
    "version": 3
   },
   "file_extension": ".py",
   "mimetype": "text/x-python",
   "name": "python",
   "nbconvert_exporter": "python",
   "pygments_lexer": "ipython3",
   "version": "3.7.3"
  }
 },
 "nbformat": 4,
 "nbformat_minor": 2
}
