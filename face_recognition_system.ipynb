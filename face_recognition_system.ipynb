{
 "cells": [
  {
   "cell_type": "code",
   "execution_count": 1,
   "metadata": {},
   "outputs": [
    {
     "name": "stdout",
     "output_type": "stream",
     "text": [
      "What is your name?Aishu\n",
      "importing Jupyter notebook from utils.ipynb\n"
     ]
    },
    {
     "name": "stderr",
     "output_type": "stream",
     "text": [
      "Using TensorFlow backend.\n"
     ]
    },
    {
     "name": "stdout",
     "output_type": "stream",
     "text": [
      "importing Jupyter notebook from face_detection.ipynb\n"
     ]
    }
   ],
   "source": [
    "name = input(\"What is your name?\")\n",
    "\n",
    "import os\n",
    "import sys\n",
    "import cv2\n",
    "import import_ipynb\n",
    "import utils\n",
    "from keras.models import load_model\n",
    "import face_detection\n",
    "import collections\n",
    "\n",
    "# validate that the user has ran the model training process\n",
    "files = os.listdir()\n",
    "if 'siamese_nn.h5' not in files:\n",
    "    print(\"Error: Pre-trained Neural Network not found!\")\n",
    "    print(\"Please run siamese_nn.py first\")\n",
    "    sys.exit()    \n",
    "\n",
    "# validate that the user has ran the onboarding process\n",
    "if 'true_img.png' not in files:\n",
    "    print(\"Error: True image not found!\")\n",
    "    print(\"Please run onbarding.py first\")\n",
    "    sys.exit()    \n",
    "\n",
    "# load pre-trained Siamese neural network\n",
    "model = load_model('siamese_nn.h5', custom_objects={'contrastive_loss': utils.contrastive_loss, 'euclidean_distance': utils.euclidean_distance})\n",
    "\n",
    "# prepare the true image obtained during onboard\n",
    "true_img = cv2.imread('true_img.png', 0)\n",
    "true_img = true_img.astype('float32')/255\n",
    "true_img = cv2.resize(true_img, (92, 112))\n",
    "true_img = true_img.reshape(1, true_img.shape[0], true_img.shape[1], 1)\n",
    "\n",
    "video_capture = cv2.VideoCapture(0)\n",
    "preds = collections.deque(maxlen=15)\n",
    "\n",
    "while True:\n",
    "    # Capture frame-by-frame\n",
    "    _, frame = video_capture.read()\n",
    "\n",
    "    # Detect Faces\n",
    "    frame, face_img, face_coords = face_detection.detect_faces(frame, draw_box=False)\n",
    "\n",
    "    if face_img is not None:\n",
    "        face_img = cv2.cvtColor(face_img, cv2.COLOR_BGR2GRAY)\n",
    "        face_img = face_img.astype('float32')/255\n",
    "        face_img = cv2.resize(face_img, (92, 112))\n",
    "        face_img = face_img.reshape(1, face_img.shape[0], face_img.shape[1], 1)\n",
    "        preds.append(1-model.predict([true_img, face_img])[0][0])\n",
    "        x,y,w,h = face_coords\n",
    "        if len(preds) == 15 and sum(preds)/15 >= 0.3:\n",
    "            text = \"Identity: {}\".format(name)\n",
    "            cv2.rectangle(frame, (x, y), (x+w, y+h), (0, 255, 0), 5)\n",
    "        elif len(preds) < 15:\n",
    "            text = \"Identifying ...\"\n",
    "            cv2.rectangle(frame, (x, y), (x+w, y+h), (0, 165, 255), 5)\n",
    "        else:\n",
    "            text = \"Identity Unknown!\"\n",
    "            cv2.rectangle(frame, (x, y), (x+w, y+h), (0, 0, 255), 5)\n",
    "        frame = utils.write_on_frame(frame, text, face_coords[0], face_coords[1]-10)\n",
    "\n",
    "    else:\n",
    "        preds = collections.deque(maxlen=15) # clear existing predictions if no face detected \n",
    "\n",
    "    # Display the resulting frame\n",
    "    cv2.imshow('Video', frame)\n",
    "\n",
    "    if cv2.waitKey(1) & 0xFF == ord('q'):\n",
    "        break\n",
    "\n",
    "# When everything is done, release the capture\n",
    "video_capture.release()\n",
    "cv2.destroyAllWindows()"
   ]
  },
  {
   "cell_type": "code",
   "execution_count": null,
   "metadata": {},
   "outputs": [],
   "source": []
  },
  {
   "cell_type": "code",
   "execution_count": null,
   "metadata": {},
   "outputs": [],
   "source": []
  }
 ],
 "metadata": {
  "kernelspec": {
   "display_name": "Python 3",
   "language": "python",
   "name": "python3"
  },
  "language_info": {
   "codemirror_mode": {
    "name": "ipython",
    "version": 3
   },
   "file_extension": ".py",
   "mimetype": "text/x-python",
   "name": "python",
   "nbconvert_exporter": "python",
   "pygments_lexer": "ipython3",
   "version": "3.7.3"
  }
 },
 "nbformat": 4,
 "nbformat_minor": 2
}
