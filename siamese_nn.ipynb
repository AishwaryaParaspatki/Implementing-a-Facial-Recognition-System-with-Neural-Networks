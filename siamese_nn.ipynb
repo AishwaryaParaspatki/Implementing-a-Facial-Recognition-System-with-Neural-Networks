{
 "cells": [
  {
   "cell_type": "code",
   "execution_count": 1,
   "metadata": {},
   "outputs": [
    {
     "name": "stdout",
     "output_type": "stream",
     "text": [
      "importing Jupyter notebook from utils.ipynb\n"
     ]
    },
    {
     "name": "stderr",
     "output_type": "stream",
     "text": [
      "Using TensorFlow backend.\n"
     ]
    },
    {
     "name": "stdout",
     "output_type": "stream",
     "text": [
      "Epoch 1/10\n",
      "630/630 [==============================] - 31s 49ms/step - loss: 0.2475 - accuracy: 0.7566\n",
      "Epoch 2/10\n",
      "630/630 [==============================] - 22s 34ms/step - loss: 0.1207 - accuracy: 0.8959\n",
      "Epoch 3/10\n",
      "630/630 [==============================] - 24s 37ms/step - loss: 0.0805 - accuracy: 0.9489\n",
      "Epoch 4/10\n",
      "630/630 [==============================] - 26s 42ms/step - loss: 0.0509 - accuracy: 0.9807\n",
      "Epoch 5/10\n",
      "630/630 [==============================] - 25s 39ms/step - loss: 0.0358 - accuracy: 0.9937\n",
      "Epoch 6/10\n",
      "630/630 [==============================] - 21s 33ms/step - loss: 0.0254 - accuracy: 0.9969\n",
      "Epoch 7/10\n",
      "630/630 [==============================] - 20s 32ms/step - loss: 0.0193 - accuracy: 1.0000\n",
      "Epoch 8/10\n",
      "630/630 [==============================] - 20s 31ms/step - loss: 0.0162 - accuracy: 0.9984\n",
      "Epoch 9/10\n",
      "630/630 [==============================] - 20s 32ms/step - loss: 0.0148 - accuracy: 0.9983\n",
      "Epoch 10/10\n",
      "630/630 [==============================] - 21s 33ms/step - loss: 0.0111 - accuracy: 1.0000\n"
     ]
    }
   ],
   "source": [
    "'''\n",
    "Main code for training a Siamese neural network for face recognition\n",
    "'''\n",
    "import import_ipynb\n",
    "import utils\n",
    "import numpy as np\n",
    "from keras.layers import Input, Lambda\n",
    "from keras.models import Model\n",
    "\n",
    "faces_dir = 'att_faces/'\n",
    "\n",
    "# Import Training and Testing Data\n",
    "(X_train, Y_train), (X_test, Y_test) = utils.get_data(faces_dir)\n",
    "num_classes = len(np.unique(Y_train))\n",
    "\n",
    "# Create Siamese Neural Network\n",
    "input_shape = X_train.shape[1:]\n",
    "shared_network = utils.create_shared_network(input_shape)\n",
    "input_top = Input(shape=input_shape)\n",
    "input_bottom = Input(shape=input_shape)\n",
    "output_top = shared_network(input_top)\n",
    "output_bottom = shared_network(input_bottom)\n",
    "distance = Lambda(utils.euclidean_distance, output_shape=(1,))([output_top, output_bottom])\n",
    "model = Model(inputs=[input_top, input_bottom], outputs=distance)\n",
    "\n",
    "# Train the model\n",
    "training_pairs, training_labels = utils.create_pairs(X_train, Y_train, num_classes=num_classes)\n",
    "model.compile(loss=utils.contrastive_loss, optimizer='adam', metrics=[utils.accuracy])\n",
    "model.fit([training_pairs[:, 0], training_pairs[:, 1]], training_labels,\n",
    "          batch_size=128,\n",
    "          epochs=10)\n",
    "\n",
    "# Save the model\n",
    "model.save('siamese_nn.h5')"
   ]
  },
  {
   "cell_type": "code",
   "execution_count": null,
   "metadata": {},
   "outputs": [],
   "source": []
  }
 ],
 "metadata": {
  "kernelspec": {
   "display_name": "Python 3",
   "language": "python",
   "name": "python3"
  },
  "language_info": {
   "codemirror_mode": {
    "name": "ipython",
    "version": 3
   },
   "file_extension": ".py",
   "mimetype": "text/x-python",
   "name": "python",
   "nbconvert_exporter": "python",
   "pygments_lexer": "ipython3",
   "version": "3.7.3"
  }
 },
 "nbformat": 4,
 "nbformat_minor": 2
}
